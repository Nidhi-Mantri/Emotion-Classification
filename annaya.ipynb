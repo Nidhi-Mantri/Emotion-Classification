{
  "nbformat": 4,
  "nbformat_minor": 0,
  "metadata": {
    "colab": {
      "name": "annaya.ipynb",
      "version": "0.3.2",
      "provenance": [],
      "collapsed_sections": [],
      "include_colab_link": true
    },
    "kernelspec": {
      "name": "python3",
      "display_name": "Python 3"
    },
    "accelerator": "GPU"
  },
  "cells": [
    {
      "cell_type": "markdown",
      "metadata": {
        "id": "view-in-github",
        "colab_type": "text"
      },
      "source": [
        "<a href=\"https://colab.research.google.com/github/Nidhi-Mantri/Emotion-Classification/blob/master/annaya.ipynb\" target=\"_parent\"><img src=\"https://colab.research.google.com/assets/colab-badge.svg\" alt=\"Open In Colab\"/></a>"
      ]
    },
    {
      "metadata": {
        "id": "NqZfNr6AZmPU",
        "colab_type": "code",
        "outputId": "33ab4fca-7b6d-47fd-fbe5-7650b17cc313",
        "colab": {
          "base_uri": "https://localhost:8080/",
          "height": 70
        }
      },
      "cell_type": "code",
      "source": [
        "# Install the PyDrive wrapper & import libraries.\n",
        "# This only needs to be done once per notebook.\n",
        "!pip install -U -q PyDrive\n",
        "from pydrive.auth import GoogleAuth\n",
        "from pydrive.drive import GoogleDrive\n",
        "from google.colab import auth\n",
        "from oauth2client.client import GoogleCredentials\n",
        "\n",
        "# Authenticate and create the PyDrive client.\n",
        "# This only needs to be done once per notebook.\n",
        "auth.authenticate_user()\n",
        "gauth = GoogleAuth()\n",
        "gauth.credentials = GoogleCredentials.get_application_default()\n",
        "drive = GoogleDrive(gauth)\n",
        "\n",
        "# List .txt files in the root.\n",
        "#\n",
        "# Search query reference:\n",
        "# https://developers.google.com/drive/v2/web/search-parameters\n",
        "listed = drive.ListFile({'q': \"title contains '.csv' and 'root' in parents\"}).GetList()\n",
        "for file in listed:\n",
        "  print('title {}, id {}'.format(file['title'], file['id']))"
      ],
      "execution_count": 0,
      "outputs": [
        {
          "output_type": "stream",
          "text": [
            "\u001b[?25l\r\u001b[K    1% |▎                               | 10kB 24.8MB/s eta 0:00:01\r\u001b[K    2% |▋                               | 20kB 2.1MB/s eta 0:00:01\r\u001b[K    3% |█                               | 30kB 3.1MB/s eta 0:00:01\r\u001b[K    4% |█▎                              | 40kB 2.0MB/s eta 0:00:01\r\u001b[K    5% |█▋                              | 51kB 2.5MB/s eta 0:00:01\r\u001b[K    6% |██                              | 61kB 3.0MB/s eta 0:00:01\r\u001b[K    7% |██▎                             | 71kB 3.4MB/s eta 0:00:01\r\u001b[K    8% |██▋                             | 81kB 3.9MB/s eta 0:00:01\r\u001b[K    9% |███                             | 92kB 4.4MB/s eta 0:00:01\r\u001b[K    10% |███▎                            | 102kB 3.3MB/s eta 0:00:01\r\u001b[K    11% |███▋                            | 112kB 3.3MB/s eta 0:00:01\r\u001b[K    12% |████                            | 122kB 4.8MB/s eta 0:00:01\r\u001b[K    13% |████▎                           | 133kB 4.7MB/s eta 0:00:01\r\u001b[K    14% |████▋                           | 143kB 8.9MB/s eta 0:00:01\r\u001b[K    15% |█████                           | 153kB 9.0MB/s eta 0:00:01\r\u001b[K    16% |█████▎                          | 163kB 9.0MB/s eta 0:00:01\r\u001b[K    17% |█████▋                          | 174kB 9.1MB/s eta 0:00:01\r\u001b[K    18% |██████                          | 184kB 9.1MB/s eta 0:00:01\r\u001b[K    19% |██████▎                         | 194kB 9.1MB/s eta 0:00:01\r\u001b[K    20% |██████▋                         | 204kB 50.0MB/s eta 0:00:01\r\u001b[K    21% |███████                         | 215kB 9.9MB/s eta 0:00:01\r\u001b[K    22% |███████▎                        | 225kB 9.9MB/s eta 0:00:01\r\u001b[K    23% |███████▋                        | 235kB 10.0MB/s eta 0:00:01\r\u001b[K    24% |████████                        | 245kB 10.0MB/s eta 0:00:01\r\u001b[K    25% |████████▎                       | 256kB 10.0MB/s eta 0:00:01\r\u001b[K    26% |████████▋                       | 266kB 9.8MB/s eta 0:00:01\r\u001b[K    27% |█████████                       | 276kB 9.8MB/s eta 0:00:01\r\u001b[K    29% |█████████▎                      | 286kB 9.8MB/s eta 0:00:01\r\u001b[K    30% |█████████▋                      | 296kB 9.8MB/s eta 0:00:01\r\u001b[K    31% |██████████                      | 307kB 10.2MB/s eta 0:00:01\r\u001b[K    32% |██████████▎                     | 317kB 62.3MB/s eta 0:00:01\r\u001b[K    33% |██████████▋                     | 327kB 66.2MB/s eta 0:00:01\r\u001b[K    34% |███████████                     | 337kB 67.6MB/s eta 0:00:01\r\u001b[K    35% |███████████▎                    | 348kB 57.3MB/s eta 0:00:01\r\u001b[K    36% |███████████▋                    | 358kB 56.7MB/s eta 0:00:01\r\u001b[K    37% |████████████                    | 368kB 67.8MB/s eta 0:00:01\r\u001b[K    38% |████████████▎                   | 378kB 70.0MB/s eta 0:00:01\r\u001b[K    39% |████████████▋                   | 389kB 70.8MB/s eta 0:00:01\r\u001b[K    40% |█████████████                   | 399kB 11.4MB/s eta 0:00:01\r\u001b[K    41% |█████████████▎                  | 409kB 11.4MB/s eta 0:00:01\r\u001b[K    42% |█████████████▋                  | 419kB 11.3MB/s eta 0:00:01\r\u001b[K    43% |██████████████                  | 430kB 11.2MB/s eta 0:00:01\r\u001b[K    44% |██████████████▎                 | 440kB 11.1MB/s eta 0:00:01\r\u001b[K    45% |██████████████▋                 | 450kB 11.3MB/s eta 0:00:01\r\u001b[K    46% |███████████████                 | 460kB 11.3MB/s eta 0:00:01\r\u001b[K    47% |███████████████▎                | 471kB 11.3MB/s eta 0:00:01\r\u001b[K    48% |███████████████▋                | 481kB 11.2MB/s eta 0:00:01\r\u001b[K    49% |████████████████                | 491kB 11.3MB/s eta 0:00:01\r\u001b[K    50% |████████████████▎               | 501kB 64.5MB/s eta 0:00:01\r\u001b[K    51% |████████████████▋               | 512kB 61.3MB/s eta 0:00:01\r\u001b[K    52% |█████████████████               | 522kB 63.6MB/s eta 0:00:01\r\u001b[K    53% |█████████████████▎              | 532kB 66.0MB/s eta 0:00:01\r\u001b[K    54% |█████████████████▋              | 542kB 68.8MB/s eta 0:00:01\r\u001b[K    55% |██████████████████              | 552kB 10.8MB/s eta 0:00:01\r\u001b[K    57% |██████████████████▎             | 563kB 10.7MB/s eta 0:00:01\r\u001b[K    58% |██████████████████▋             | 573kB 10.6MB/s eta 0:00:01\r\u001b[K    59% |███████████████████             | 583kB 10.5MB/s eta 0:00:01\r\u001b[K    60% |███████████████████▎            | 593kB 10.5MB/s eta 0:00:01\r\u001b[K    61% |███████████████████▋            | 604kB 10.4MB/s eta 0:00:01\r\u001b[K    62% |████████████████████            | 614kB 10.6MB/s eta 0:00:01\r\u001b[K    63% |████████████████████▎           | 624kB 10.6MB/s eta 0:00:01\r\u001b[K    64% |████████████████████▋           | 634kB 10.6MB/s eta 0:00:01\r\u001b[K    65% |█████████████████████           | 645kB 10.6MB/s eta 0:00:01\r\u001b[K    66% |█████████████████████▎          | 655kB 69.0MB/s eta 0:00:01\r\u001b[K    67% |█████████████████████▋          | 665kB 53.2MB/s eta 0:00:01\r\u001b[K    68% |██████████████████████          | 675kB 54.7MB/s eta 0:00:01\r\u001b[K    69% |██████████████████████▎         | 686kB 57.2MB/s eta 0:00:01\r\u001b[K    70% |██████████████████████▋         | 696kB 57.9MB/s eta 0:00:01\r\u001b[K    71% |███████████████████████         | 706kB 58.9MB/s eta 0:00:01\r\u001b[K    72% |███████████████████████▎        | 716kB 60.3MB/s eta 0:00:01\r\u001b[K    73% |███████████████████████▋        | 727kB 59.9MB/s eta 0:00:01\r\u001b[K    74% |████████████████████████        | 737kB 60.3MB/s eta 0:00:01\r\u001b[K    75% |████████████████████████▎       | 747kB 60.3MB/s eta 0:00:01\r\u001b[K    76% |████████████████████████▋       | 757kB 59.7MB/s eta 0:00:01\r\u001b[K    77% |████████████████████████▉       | 768kB 88.8MB/s eta 0:00:01\r\u001b[K    78% |█████████████████████████▏      | 778kB 90.2MB/s eta 0:00:01\r\u001b[K    79% |█████████████████████████▌      | 788kB 91.0MB/s eta 0:00:01\r\u001b[K    80% |█████████████████████████▉      | 798kB 90.5MB/s eta 0:00:01\r\u001b[K    81% |██████████████████████████▏     | 808kB 89.7MB/s eta 0:00:01\r\u001b[K    82% |██████████████████████████▌     | 819kB 90.3MB/s eta 0:00:01\r\u001b[K    83% |██████████████████████████▉     | 829kB 91.2MB/s eta 0:00:01\r\u001b[K    85% |███████████████████████████▏    | 839kB 88.0MB/s eta 0:00:01\r\u001b[K    86% |███████████████████████████▌    | 849kB 89.1MB/s eta 0:00:01\r\u001b[K    87% |███████████████████████████▉    | 860kB 73.4MB/s eta 0:00:01\r\u001b[K    88% |████████████████████████████▏   | 870kB 72.6MB/s eta 0:00:01\r\u001b[K    89% |████████████████████████████▌   | 880kB 73.1MB/s eta 0:00:01\r\u001b[K    90% |████████████████████████████▉   | 890kB 72.7MB/s eta 0:00:01\r\u001b[K    91% |█████████████████████████████▏  | 901kB 72.6MB/s eta 0:00:01\r\u001b[K    92% |█████████████████████████████▌  | 911kB 72.6MB/s eta 0:00:01\r\u001b[K    93% |█████████████████████████████▉  | 921kB 70.5MB/s eta 0:00:01\r\u001b[K    94% |██████████████████████████████▏ | 931kB 69.9MB/s eta 0:00:01\r\u001b[K    95% |██████████████████████████████▌ | 942kB 71.6MB/s eta 0:00:01\r\u001b[K    96% |██████████████████████████████▉ | 952kB 72.7MB/s eta 0:00:01\r\u001b[K    97% |███████████████████████████████▏| 962kB 89.0MB/s eta 0:00:01\r\u001b[K    98% |███████████████████████████████▌| 972kB 87.9MB/s eta 0:00:01\r\u001b[K    99% |███████████████████████████████▉| 983kB 87.1MB/s eta 0:00:01\r\u001b[K    100% |████████████████████████████████| 993kB 24.0MB/s \n",
            "\u001b[?25h  Building wheel for PyDrive (setup.py) ... \u001b[?25ldone\n",
            "\u001b[?25htitle fer2013.csv, id 1fMBtuQEVesZSY22lVIk-6j4tOBz_4khM\n"
          ],
          "name": "stdout"
        }
      ]
    },
    {
      "metadata": {
        "id": "GbYFEl6EaF_o",
        "colab_type": "code",
        "outputId": "9a9ba2e3-dfbe-4e92-f475-29ea34ccd296",
        "colab": {
          "base_uri": "https://localhost:8080/",
          "height": 123
        }
      },
      "cell_type": "code",
      "source": [
        "file_id = '1fMBtuQEVesZSY22lVIk-6j4tOBz_4khM'\n",
        "downloaded = drive.CreateFile({'id': file_id})\n",
        "\n",
        "import pandas as pd\n",
        "downloaded.GetContentFile('fer2013.csv')  \n",
        "df3 = pd.read_csv('fer2013.csv')\n",
        "print(df3.head(5))"
      ],
      "execution_count": 0,
      "outputs": [
        {
          "output_type": "stream",
          "text": [
            "   emotion                                             pixels     Usage\n",
            "0        0  70 80 82 72 58 58 60 63 54 58 60 48 89 115 121...  Training\n",
            "1        0  151 150 147 155 148 133 111 140 170 174 182 15...  Training\n",
            "2        2  231 212 156 164 174 138 161 173 182 200 106 38...  Training\n",
            "3        4  24 32 36 30 32 23 19 20 30 41 21 22 32 34 21 1...  Training\n",
            "4        6  4 0 0 0 0 0 0 0 0 0 0 0 3 15 23 28 48 50 58 84...  Training\n"
          ],
          "name": "stdout"
        }
      ]
    },
    {
      "metadata": {
        "id": "SZM5UlVvmIvH",
        "colab_type": "text"
      },
      "cell_type": "markdown",
      "source": [
        "# **0 : Angry, 1 : Disgust, 2 : Fear, 3 : Happy, 4 : Sad, 5 : Surprise, 6 : Neutral**"
      ]
    },
    {
      "metadata": {
        "id": "bwbalMsAkAij",
        "colab_type": "code",
        "outputId": "b796791f-9619-47df-dbf9-0a2007b8334b",
        "colab": {
          "base_uri": "https://localhost:8080/",
          "height": 34
        }
      },
      "cell_type": "code",
      "source": [
        "emotion = df3['emotion']\n",
        "print(emotion.unique())"
      ],
      "execution_count": 0,
      "outputs": [
        {
          "output_type": "stream",
          "text": [
            "[0 2 4 6 3 5 1]\n"
          ],
          "name": "stdout"
        }
      ]
    },
    {
      "metadata": {
        "id": "-1lDK1SUksOD",
        "colab_type": "code",
        "outputId": "dd8cd6e3-29bd-4d45-c0f0-0bc7a35407d5",
        "colab": {
          "base_uri": "https://localhost:8080/",
          "height": 34
        }
      },
      "cell_type": "code",
      "source": [
        "usage = df3['Usage']\n",
        "print(usage.unique())"
      ],
      "execution_count": 0,
      "outputs": [
        {
          "output_type": "stream",
          "text": [
            "['Training' 'PublicTest' 'PrivateTest']\n"
          ],
          "name": "stdout"
        }
      ]
    },
    {
      "metadata": {
        "id": "02oUpe3ok5bU",
        "colab_type": "code",
        "outputId": "095573d0-c983-4440-d456-beca2017c623",
        "colab": {
          "base_uri": "https://localhost:8080/",
          "height": 158
        }
      },
      "cell_type": "code",
      "source": [
        "import matplotlib.pyplot as plt\n",
        "dicty = {}\n",
        "#for i in emotion.unique():\n",
        "emoti_count = emotion.value_counts()\n",
        "print(emoti_count)"
      ],
      "execution_count": 0,
      "outputs": [
        {
          "output_type": "stream",
          "text": [
            "3    8989\n",
            "6    6198\n",
            "4    6077\n",
            "2    5121\n",
            "0    4953\n",
            "5    4002\n",
            "1     547\n",
            "Name: emotion, dtype: int64\n"
          ],
          "name": "stdout"
        }
      ]
    },
    {
      "metadata": {
        "id": "0r1IzB3vmvnN",
        "colab_type": "code",
        "outputId": "2ed82f4c-9647-4440-c17c-3b33fe771187",
        "colab": {
          "base_uri": "https://localhost:8080/",
          "height": 52
        }
      },
      "cell_type": "code",
      "source": [
        "e_counts = [emoti_count[i] for i in range(len(emoti_count))]\n",
        "e_index = [i for i in range(len(emoti_count))]\n",
        "print(e_index)\n",
        "print(e_counts)"
      ],
      "execution_count": 0,
      "outputs": [
        {
          "output_type": "stream",
          "text": [
            "[0, 1, 2, 3, 4, 5, 6]\n",
            "[4953, 547, 5121, 8989, 6077, 4002, 6198]\n"
          ],
          "name": "stdout"
        }
      ]
    },
    {
      "metadata": {
        "id": "OMtUQjnHpnOV",
        "colab_type": "code",
        "outputId": "677c1160-7065-48f9-ddb5-bea15cc51f6d",
        "colab": {
          "base_uri": "https://localhost:8080/",
          "height": 52
        }
      },
      "cell_type": "code",
      "source": [
        "usage_count = usage.value_counts()\n",
        "u_label = ['Training', 'PrivateTest', 'PublicTest']\n",
        "u_counts = [usage_count[i] for i in range(len(usage_count))]\n",
        "print(u_label)\n",
        "u_index = [i for i in range(len(usage_count))]\n",
        "print(u_counts)"
      ],
      "execution_count": 0,
      "outputs": [
        {
          "output_type": "stream",
          "text": [
            "['Training', 'PrivateTest', 'PublicTest']\n",
            "[28709, 3589, 3589]\n"
          ],
          "name": "stdout"
        }
      ]
    },
    {
      "metadata": {
        "id": "P9r68DfvsjAv",
        "colab_type": "text"
      },
      "cell_type": "markdown",
      "source": [
        "Visualization : emotion and its frequency"
      ]
    },
    {
      "metadata": {
        "id": "uQCWGXKbL1DW",
        "colab_type": "text"
      },
      "cell_type": "markdown",
      "source": [
        "# Emotion : -\n",
        "Angry, Disgust, Fear, Happy, Sad, Surprise, Neutral\n",
        "\n",
        "4953, 547, 5121, 8989, 6077, 4002, 6198"
      ]
    },
    {
      "metadata": {
        "id": "595xv7Lurwcb",
        "colab_type": "code",
        "outputId": "970de53d-98bc-49e7-8634-f00560feffd0",
        "colab": {
          "base_uri": "https://localhost:8080/",
          "height": 296
        }
      },
      "cell_type": "code",
      "source": [
        "label = ['Angry', 'Disgust', 'Fear', 'Happy', 'Sad', 'Surprise', 'Neutral']\n",
        "plt.bar(e_index, e_counts)\n",
        "plt.xlabel('Emotions', fontsize=20)\n",
        "plt.ylabel('Frequency', fontsize=20)\n",
        "plt.xticks(e_index, label, fontsize=10, rotation=45)\n",
        "plt.title('Emotion and its frequency in dataset')\n",
        "plt.tight_layout()\n",
        "from google.colab import files\n",
        "#plt.savefig(\"Emotion_Frequency.png\", )\n",
        "#files.download(\"Emotion_Frequency.png\")\n",
        "plt.show()\n",
        "plt.close()\n"
      ],
      "execution_count": 0,
      "outputs": [
        {
          "output_type": "display_data",
          "data": {
            "image/png": "[encoded data removed]",
            "text/plain": [
              "<Figure size 432x288 with 1 Axes>"
            ]
          },
          "metadata": {
            "tags": []
          }
        }
      ]
    },
    {
      "metadata": {
        "id": "tmQNMYoNLcSC",
        "colab_type": "text"
      },
      "cell_type": "markdown",
      "source": [
        "# Usage : -\n",
        " Training - 28709,   PublicTest - 3589,   PrivateTest - 3589"
      ]
    },
    {
      "metadata": {
        "id": "VouV5vhTt1qI",
        "colab_type": "code",
        "outputId": "52a06016-3a62-46c3-a427-db6a57118d87",
        "colab": {
          "base_uri": "https://localhost:8080/",
          "height": 296
        }
      },
      "cell_type": "code",
      "source": [
        "plt.bar(u_index, u_counts)\n",
        "plt.xlabel('Usage', fontsize=20)\n",
        "plt.ylabel('Frequency', fontsize=20)\n",
        "plt.xticks(u_index, u_label, fontsize=10, rotation=45)\n",
        "plt.title('Usage and its frequency in dataset')\n",
        "plt.tight_layout()\n",
        "#from google.colab import files\n",
        "#plt.savefig(\"Usage_Frequency.png\", )\n",
        "#files.download(\"Usage_Frequency.png\")\n",
        "plt.show()\n",
        "plt.close()"
      ],
      "execution_count": 0,
      "outputs": [
        {
          "output_type": "display_data",
          "data": {
            "image/png": "[encoded data removed]",
            "text/plain": [
              "<Figure size 432x288 with 1 Axes>"
            ]
          },
          "metadata": {
            "tags": []
          }
        }
      ]
    },
    {
      "metadata": {
        "id": "K4vxrCdMkL71",
        "colab_type": "code",
        "outputId": "d7f1bbf0-3f8c-4bc2-99de-28af8aab4b92",
        "colab": {
          "base_uri": "https://localhost:8080/",
          "height": 54
        }
      },
      "cell_type": "code",
      "source": [
        "import numpy as np\n",
        "pixel = df3['pixels']\n",
        "print(pixel[0])\n",
        "faces = []  \n",
        "for i in range(len(pixel)):\n",
        "  face = [int(j) for j in pixel[i].split(' ')]\n",
        "  face = np.asarray(face).reshape(48, 48)\n",
        "  #print(face)\n",
        "  faces.append(face)"
      ],
      "execution_count": 0,
      "outputs": [
        {
          "output_type": "stream",
          "text": [
            "70 80 82 72 58 58 60 63 54 58 60 48 89 115 121 119 115 110 98 91 84 84 90 99 110 126 143 153 158 171 169 172 169 165 129 110 113 107 95 79 66 62 56 57 61 52 43 41 65 61 58 57 56 69 75 70 65 56 54 105 146 154 151 151 155 155 150 147 147 148 152 158 164 172 177 182 186 189 188 190 188 180 167 116 95 103 97 77 72 62 55 58 54 56 52 44 50 43 54 64 63 71 68 64 52 66 119 156 161 164 163 164 167 168 170 174 175 176 178 179 183 187 190 195 197 198 197 198 195 191 190 145 86 100 90 65 57 60 54 51 41 49 56 47 38 44 63 55 46 52 54 55 83 138 157 158 165 168 172 171 173 176 179 179 180 182 185 187 189 189 192 197 200 199 196 198 200 198 197 177 91 87 96 58 58 59 51 42 37 41 47 45 37 35 36 30 41 47 59 94 141 159 161 161 164 170 171 172 176 178 179 182 183 183 187 189 192 192 194 195 200 200 199 199 200 201 197 193 111 71 108 69 55 61 51 42 43 56 54 44 24 29 31 45 61 72 100 136 150 159 163 162 163 170 172 171 174 177 177 180 187 186 187 189 192 192 194 195 196 197 199 200 201 200 197 201 137 58 98 92 57 62 53 47 41 40 51 43 24 35 52 63 75 104 129 143 149 158 162 164 166 171 173 172 174 178 178 179 187 188 188 191 193 194 195 198 199 199 197 198 197 197 197 201 164 52 78 87 69 58 56 50 54 39 44 42 26 31 49 65 91 119 134 145 147 152 159 163 167 171 170 169 174 178 178 179 187 187 185 187 190 188 187 191 197 201 199 199 200 197 196 197 182 58 62 77 61 60 55 49 59 52 54 44 22 30 47 68 102 123 136 144 148 150 153 157 167 172 173 170 171 177 179 178 186 190 186 189 196 193 191 194 190 190 192 197 201 203 199 194 189 69 48 74 56 60 57 50 59 59 51 41 20 34 47 79 111 132 139 143 145 147 150 151 160 169 172 171 167 171 177 177 174 180 182 181 192 196 189 192 198 195 194 196 198 201 202 195 189 70 39 69 61 61 61 53 59 59 45 40 26 40 61 93 124 135 138 142 144 146 151 152 158 165 168 168 165 161 164 173 172 167 172 167 180 198 198 193 199 195 194 198 200 198 197 195 190 65 35 68 59 59 62 57 60 59 50 44 32 54 90 115 132 137 138 140 144 146 146 156 165 168 174 176 176 175 168 168 169 171 175 171 172 192 194 184 198 205 201 194 195 193 195 192 186 57 38 72 65 57 62 58 57 60 54 49 47 79 116 130 138 141 141 139 141 143 145 157 164 164 166 173 174 176 179 179 176 181 189 188 173 180 175 160 182 189 198 192 189 190 190 188 172 46 44 64 66 59 62 57 56 62 53 50 66 103 133 137 141 143 141 136 132 131 136 127 118 111 107 108 123 131 143 154 158 166 177 181 175 170 159 148 171 161 176 185 192 194 188 190 162 53 49 58 63 61 61 55 56 61 51 50 81 116 139 142 142 146 144 136 128 119 112 97 85 90 91 88 92 90 80 81 84 106 122 132 144 145 144 147 163 147 163 173 181 190 187 191 167 61 48 53 61 61 58 54 56 61 51 53 89 123 140 144 145 146 147 136 122 107 99 95 92 90 87 83 76 67 52 46 52 63 69 83 96 119 132 148 159 136 137 143 138 143 152 156 156 70 48 50 59 61 57 54 54 61 52 56 93 124 135 140 144 148 150 140 125 114 101 80 54 56 54 41 41 33 40 39 35 49 60 63 74 107 129 147 147 116 111 100 77 76 86 108 111 73 49 50 60 62 60 57 55 63 59 56 89 121 134 139 146 151 152 150 141 127 111 96 77 85 70 32 31 37 91 65 50 48 59 73 83 112 136 155 130 60 46 38 40 43 81 116 91 72 52 48 58 62 62 59 53 61 59 52 85 114 134 140 147 154 159 158 153 145 143 150 126 121 125 68 45 89 137 95 70 78 75 95 109 131 153 171 94 23 16 32 82 82 65 113 77 71 54 48 56 62 62 60 53 60 56 52 75 108 133 141 149 158 166 169 167 163 156 155 146 112 119 134 127 142 140 121 117 129 114 120 129 146 174 191 98 46 33 33 109 147 98 109 67 73 55 50 56 64 64 61 58 61 53 54 64 106 129 140 148 159 169 175 176 174 165 159 156 145 120 115 124 127 131 133 141 147 142 141 147 161 182 202 154 114 96 100 158 158 153 123 61 76 57 48 56 64 64 63 62 61 54 55 44 97 131 137 147 158 168 177 181 183 179 170 168 169 165 155 152 151 152 154 162 165 158 153 158 168 187 206 186 147 135 144 145 152 178 115 57 74 58 48 58 64 63 63 59 63 55 53 66 104 130 132 144 153 162 170 180 185 187 181 178 182 180 177 173 171 171 177 176 172 164 161 167 164 185 207 197 173 152 141 141 161 191 104 54 69 60 48 57 65 62 60 57 64 55 50 94 111 124 130 135 150 159 163 172 179 184 184 178 178 177 173 171 174 177 178 176 169 165 161 163 161 180 205 201 183 171 177 178 180 194 101 55 65 60 47 55 65 63 59 58 63 57 52 90 105 117 122 130 143 153 157 163 171 174 182 183 182 178 174 175 175 177 175 172 163 161 159 157 162 178 200 201 188 181 172 177 187 198 98 57 63 61 48 52 61 64 63 60 65 57 51 95 104 113 117 127 136 145 152 156 162 162 165 173 177 182 183 183 180 181 177 165 153 154 152 153 160 174 193 200 188 185 180 182 192 196 101 60 60 56 49 50 60 66 64 62 64 59 53 99 104 111 112 118 132 142 147 155 158 160 159 162 171 176 184 186 183 180 169 154 141 135 145 155 164 180 196 205 188 189 188 189 193 192 98 61 64 55 49 49 60 66 63 64 63 60 57 99 105 108 112 113 125 139 143 150 155 158 164 169 174 176 182 183 182 177 163 141 133 147 151 164 170 185 200 210 194 188 192 186 185 180 88 64 67 60 46 50 59 65 64 64 64 59 56 101 103 108 109 109 118 134 143 143 147 155 159 166 171 174 177 179 178 172 153 129 143 161 159 166 171 186 197 207 203 185 191 183 179 164 73 67 67 66 48 50 57 65 65 63 64 61 57 103 108 114 112 110 115 128 138 144 145 152 156 159 164 168 172 172 169 161 139 125 147 156 161 162 164 180 188 188 197 185 187 181 180 137 65 70 68 70 52 47 53 62 65 63 65 61 58 105 109 112 120 113 112 122 134 141 149 150 153 155 159 164 167 167 162 152 134 115 126 119 106 99 109 141 158 150 155 175 184 176 175 106 63 70 68 68 50 46 50 57 63 63 64 61 59 107 110 110 117 117 114 117 128 137 147 148 150 153 156 161 162 163 156 150 148 105 70 45 26 25 47 73 74 79 128 177 180 173 157 77 66 68 67 68 52 49 51 56 62 62 62 62 60 101 107 108 114 115 114 117 125 134 143 148 149 152 154 158 160 158 155 160 158 132 88 73 73 64 52 66 91 138 160 174 173 171 125 64 67 63 64 68 54 50 49 54 60 60 60 62 60 98 105 105 109 111 114 117 125 131 139 145 148 153 153 156 157 156 161 168 165 153 139 122 115 105 89 103 150 182 161 171 173 162 89 64 64 62 64 69 56 48 49 56 58 60 59 62 60 89 99 108 106 109 111 119 120 125 134 140 146 152 153 153 153 156 159 162 160 150 136 129 133 133 122 133 148 178 168 168 175 132 61 67 66 65 63 69 57 47 50 55 58 59 61 62 60 89 96 105 107 105 107 117 120 123 124 133 141 149 153 151 145 151 145 139 140 138 128 126 124 129 125 136 142 164 172 168 168 87 58 67 63 62 61 69 57 39 44 55 56 59 63 62 62 84 91 92 98 102 103 113 119 121 118 128 138 146 151 147 142 140 128 127 128 129 126 135 140 135 130 143 146 149 166 174 131 62 65 62 59 67 63 68 83 89 65 42 52 60 60 62 63 77 84 84 91 99 101 107 112 117 118 122 134 145 149 144 134 127 127 129 130 134 125 126 132 152 153 151 150 151 165 171 87 59 65 64 61 58 86 122 138 208 207 154 71 52 56 55 56 69 77 83 85 93 91 102 112 116 118 119 127 140 144 142 131 112 95 85 75 62 58 56 59 87 88 83 127 142 165 149 62 65 62 59 77 113 192 156 84 185 196 197 168 81 70 75 69 58 65 73 82 81 79 95 107 114 116 116 123 136 142 136 132 131 102 71 58 49 41 33 41 36 49 60 99 136 168 111 53 63 71 138 186 203 195 146 87 91 72 79 95 103 82 61 74 55 57 68 75 76 77 84 96 106 110 111 121 130 138 136 142 153 159 152 152 154 145 133 136 147 158 156 155 147 158 74 57 60 123 181 174 126 89 72 67 57 43 55 67 76 86 60 45 51 45 52 68 75 73 77 88 96 100 104 113 115 121 134 146 149 146 149 148 155 168 174 179 178 169 169 174 161 131 44 47 82 150 168 136 104 75 66 80 67 58 48 54 68 88 121 102 51 45 38 53 66 65 70 86 92 96 102 103 109 116 130 136 136 133 136 138 137 135 128 130 143 158 165 164 147 87 62 74 123 160 170 100 99 107 79 71 86 75 57 45 49 65 122 130 43 48 40 39 55 61 59 71 82 87 88 93 105 118 123 128 130 124 111 98 94 88 67 55 84 129 147 148 105 48 82 142 161 164 164 76 72 85 100 88 72 90 84 54 48 54 73 100 73 36 44 31 37 53 51 55 67 74 77 87 97 108 118 125 132 122 106 86 80 82 75 73 83 110 129 126 46 22 130 177 196 193 166 72 52 54 73 100 92 75 99 95 65 68 61 63 91 65 42 37 22 28 39 44 57 68 74 83 92 101 119 131 143 141 134 136 140 139 134 136 139 138 136 85 23 114 202 198 199 180 173 98 36 86 130 150 137 99 77 101 99 72 56 43 77 82 79 70 56 28 20 25 36 50 63 73 83 98 111 124 139 156 160 159 169 168 165 163 159 149 114 43 26 133 183 192 177 152 137 130 125 139 173 195 186 137 101 88 101 105 70 46 77 72 84 87 87 81 64 37 20 31 40 46 65 88 108 110 125 149 157 153 162 164 158 159 154 140 78 21 11 61 144 168 173 157 138 150 148 132 159 182 183 136 106 116 95 106 109 82\n"
          ],
          "name": "stdout"
        }
      ]
    },
    {
      "metadata": {
        "id": "iLKDDyV28YX9",
        "colab_type": "code",
        "outputId": "496db905-cbf8-4fd4-840d-b906f7ff0ff9",
        "colab": {
          "base_uri": "https://localhost:8080/",
          "height": 87
        }
      },
      "cell_type": "code",
      "source": [
        "print(face.shape)\n",
        "faces = np.asarray(faces)\n",
        "faces = np.expand_dims(faces, -1)\n",
        "emotions = pd.get_dummies(df3['emotion']).values\n",
        "print(emotions[0])\n",
        "print(emotions.shape)\n",
        "print(faces.shape)"
      ],
      "execution_count": 0,
      "outputs": [
        {
          "output_type": "stream",
          "text": [
            "(48, 48)\n",
            "[1 0 0 0 0 0 0]\n",
            "(35887, 7)\n",
            "(35887, 48, 48, 1)\n"
          ],
          "name": "stdout"
        }
      ]
    },
    {
      "metadata": {
        "id": "hkj2uAyZ9bsp",
        "colab_type": "code",
        "colab": {}
      },
      "cell_type": "code",
      "source": [
        "from sklearn.model_selection import train_test_split\n",
        "X_train, X_test, y_train, y_test = train_test_split(faces, emotions, test_size=0.1, random_state=42)\n",
        "#X_train, X_val, y_train, y_val = train_test_split(X_train, y_train, test_size=0.1111, random_state=41)"
      ],
      "execution_count": 0,
      "outputs": []
    },
    {
      "metadata": {
        "id": "hllM-iP6ApHt",
        "colab_type": "code",
        "outputId": "d3438a38-3d28-4270-ccc4-4ea67d65dc54",
        "colab": {
          "base_uri": "https://localhost:8080/",
          "height": 52
        }
      },
      "cell_type": "code",
      "source": [
        "print(len(X_train))\n",
        "#print(len(X_val))\n",
        "print(len(X_test))"
      ],
      "execution_count": 0,
      "outputs": [
        {
          "output_type": "stream",
          "text": [
            "32298\n",
            "3589\n"
          ],
          "name": "stdout"
        }
      ]
    },
    {
      "metadata": {
        "id": "v0MROTaA3Vps",
        "colab_type": "code",
        "outputId": "63dd2e9b-0743-457e-a8c7-6013ef40dcf7",
        "colab": {
          "base_uri": "https://localhost:8080/",
          "height": 1243
        }
      },
      "cell_type": "code",
      "source": [
        "from sklearn.model_selection import train_test_split\n",
        "from keras.models import Sequential\n",
        "from keras.layers import Dense, Dropout, Activation, Flatten\n",
        "from keras.layers import Conv2D, MaxPooling2D, BatchNormalization\n",
        "from keras.losses import categorical_crossentropy\n",
        "from keras.optimizers import Adam\n",
        "from keras.regularizers import l2\n",
        "from keras.callbacks import ReduceLROnPlateau, TensorBoard, EarlyStopping, ModelCheckpoint\n",
        "num_features = 64\n",
        "num_labels = 7\n",
        "batch_size = 64\n",
        "epochs = 100\n",
        "width, height = 48, 48\n",
        "\n",
        "model = Sequential()\n",
        "\n",
        "model.add(Conv2D(num_features, kernel_size=(3, 3), activation='relu', input_shape=(width, height, 1), data_format='channels_last', kernel_regularizer=l2(0.01)))\n",
        "model.add(Conv2D(num_features, kernel_size=(3, 3), activation='relu', padding='same'))\n",
        "model.add(BatchNormalization())\n",
        "model.add(MaxPooling2D(pool_size=(2, 2), strides=(2, 2)))\n",
        "model.add(Dropout(0.5))\n",
        "\n",
        "model.add(Conv2D(2*num_features, kernel_size=(3, 3), activation='relu', padding='same'))\n",
        "model.add(BatchNormalization())\n",
        "model.add(Conv2D(2*num_features, kernel_size=(3, 3), activation='relu', padding='same'))\n",
        "model.add(BatchNormalization())\n",
        "model.add(MaxPooling2D(pool_size=(2, 2), strides=(2, 2)))\n",
        "model.add(Dropout(0.5))\n",
        "\n",
        "model.add(Conv2D(2*2*num_features, kernel_size=(3, 3), activation='relu', padding='same'))\n",
        "model.add(BatchNormalization())\n",
        "model.add(Conv2D(2*2*num_features, kernel_size=(3, 3), activation='relu', padding='same'))\n",
        "model.add(BatchNormalization())\n",
        "model.add(MaxPooling2D(pool_size=(2, 2), strides=(2, 2)))\n",
        "model.add(Dropout(0.5))\n",
        "\n",
        "model.add(Conv2D(2*2*2*num_features, kernel_size=(3, 3), activation='relu', padding='same'))\n",
        "model.add(BatchNormalization())\n",
        "model.add(Conv2D(2*2*2*num_features, kernel_size=(3, 3), activation='relu', padding='same'))\n",
        "model.add(BatchNormalization())\n",
        "model.add(MaxPooling2D(pool_size=(2, 2), strides=(2, 2)))\n",
        "model.add(Dropout(0.5))\n",
        "\n",
        "model.add(Flatten())\n",
        "\n",
        "model.add(Dense(2*2*2*num_features, activation='relu'))\n",
        "model.add(Dropout(0.4))\n",
        "model.add(Dense(2*2*num_features, activation='relu'))\n",
        "model.add(Dropout(0.4))\n",
        "model.add(Dense(2*num_features, activation='relu'))\n",
        "model.add(Dropout(0.5))\n",
        "\n",
        "model.add(Dense(num_labels, activation='softmax'))\n",
        "model.summary()\n",
        "model.compile(loss=categorical_crossentropy,\n",
        "              optimizer=Adam(lr=0.001, beta_1=0.9, beta_2=0.999, epsilon=1e-7),\n",
        "              metrics=['accuracy'])\n",
        "lr_reducer = ReduceLROnPlateau(monitor='val_loss', factor=0.9, patience=3, verbose=1)\n",
        "\n",
        "def myprint(s):\n",
        "    with open('modelsummary.txt','w+') as f:\n",
        "        print(s, file=f)\n",
        "\n",
        "model.summary(print_fn=myprint)\n"
      ],
      "execution_count": 2,
      "outputs": [
        {
          "output_type": "stream",
          "text": [
            "_________________________________________________________________\n",
            "Layer (type)                 Output Shape              Param #   \n",
            "=================================================================\n",
            "conv2d_9 (Conv2D)            (None, 46, 46, 64)        640       \n",
            "_________________________________________________________________\n",
            "conv2d_10 (Conv2D)           (None, 46, 46, 64)        36928     \n",
            "_________________________________________________________________\n",
            "batch_normalization_8 (Batch (None, 46, 46, 64)        256       \n",
            "_________________________________________________________________\n",
            "max_pooling2d_5 (MaxPooling2 (None, 23, 23, 64)        0         \n",
            "_________________________________________________________________\n",
            "dropout_8 (Dropout)          (None, 23, 23, 64)        0         \n",
            "_________________________________________________________________\n",
            "conv2d_11 (Conv2D)           (None, 23, 23, 128)       73856     \n",
            "_________________________________________________________________\n",
            "batch_normalization_9 (Batch (None, 23, 23, 128)       512       \n",
            "_________________________________________________________________\n",
            "conv2d_12 (Conv2D)           (None, 23, 23, 128)       147584    \n",
            "_________________________________________________________________\n",
            "batch_normalization_10 (Batc (None, 23, 23, 128)       512       \n",
            "_________________________________________________________________\n",
            "max_pooling2d_6 (MaxPooling2 (None, 11, 11, 128)       0         \n",
            "_________________________________________________________________\n",
            "dropout_9 (Dropout)          (None, 11, 11, 128)       0         \n",
            "_________________________________________________________________\n",
            "conv2d_13 (Conv2D)           (None, 11, 11, 256)       295168    \n",
            "_________________________________________________________________\n",
            "batch_normalization_11 (Batc (None, 11, 11, 256)       1024      \n",
            "_________________________________________________________________\n",
            "conv2d_14 (Conv2D)           (None, 11, 11, 256)       590080    \n",
            "_________________________________________________________________\n",
            "batch_normalization_12 (Batc (None, 11, 11, 256)       1024      \n",
            "_________________________________________________________________\n",
            "max_pooling2d_7 (MaxPooling2 (None, 5, 5, 256)         0         \n",
            "_________________________________________________________________\n",
            "dropout_10 (Dropout)         (None, 5, 5, 256)         0         \n",
            "_________________________________________________________________\n",
            "conv2d_15 (Conv2D)           (None, 5, 5, 512)         1180160   \n",
            "_________________________________________________________________\n",
            "batch_normalization_13 (Batc (None, 5, 5, 512)         2048      \n",
            "_________________________________________________________________\n",
            "conv2d_16 (Conv2D)           (None, 5, 5, 512)         2359808   \n",
            "_________________________________________________________________\n",
            "batch_normalization_14 (Batc (None, 5, 5, 512)         2048      \n",
            "_________________________________________________________________\n",
            "max_pooling2d_8 (MaxPooling2 (None, 2, 2, 512)         0         \n",
            "_________________________________________________________________\n",
            "dropout_11 (Dropout)         (None, 2, 2, 512)         0         \n",
            "_________________________________________________________________\n",
            "flatten_2 (Flatten)          (None, 2048)              0         \n",
            "_________________________________________________________________\n",
            "dense_5 (Dense)              (None, 512)               1049088   \n",
            "_________________________________________________________________\n",
            "dropout_12 (Dropout)         (None, 512)               0         \n",
            "_________________________________________________________________\n",
            "dense_6 (Dense)              (None, 256)               131328    \n",
            "_________________________________________________________________\n",
            "dropout_13 (Dropout)         (None, 256)               0         \n",
            "_________________________________________________________________\n",
            "dense_7 (Dense)              (None, 128)               32896     \n",
            "_________________________________________________________________\n",
            "dropout_14 (Dropout)         (None, 128)               0         \n",
            "_________________________________________________________________\n",
            "dense_8 (Dense)              (None, 7)                 903       \n",
            "=================================================================\n",
            "Total params: 5,905,863\n",
            "Trainable params: 5,902,151\n",
            "Non-trainable params: 3,712\n",
            "_________________________________________________________________\n"
          ],
          "name": "stdout"
        }
      ]
    },
    {
      "metadata": {
        "id": "ziUwjutDDghY",
        "colab_type": "code",
        "colab": {}
      },
      "cell_type": "code",
      "source": [
        "!wget https://bin.equinox.io/c/4VmDzA7iaHb/ngrok-stable-linux-amd64.zip\n",
        "!unzip ngrok-stable-linux-amd64.zip"
      ],
      "execution_count": 0,
      "outputs": []
    },
    {
      "metadata": {
        "id": "QhNHy7HkDayB",
        "colab_type": "code",
        "colab": {}
      },
      "cell_type": "code",
      "source": [
        "LOG_DIR = './log'\n",
        "get_ipython().system_raw(\n",
        "    'tensorboard --logdir {} --host 0.0.0.0 --port 6006 &'\n",
        "    .format(LOG_DIR)\n",
        ")"
      ],
      "execution_count": 0,
      "outputs": []
    },
    {
      "metadata": {
        "id": "PBSZ10zODaGh",
        "colab_type": "code",
        "outputId": "576d82eb-bb6f-4fad-9498-2e2b45e1a832",
        "colab": {
          "base_uri": "https://localhost:8080/",
          "height": 34
        }
      },
      "cell_type": "code",
      "source": [
        "get_ipython().system_raw('./ngrok http 6006 &')\n",
        "! curl -s http://localhost:4040/api/tunnels | python3 -c \\\n",
        "    \"import sys, json; print(json.load(sys.stdin)['tunnels'][0]['public_url'])\""
      ],
      "execution_count": 0,
      "outputs": [
        {
          "output_type": "stream",
          "text": [
            "https://895c346f.ngrok.io\n"
          ],
          "name": "stdout"
        }
      ]
    },
    {
      "metadata": {
        "id": "FUfmuLhTEMkz",
        "colab_type": "code",
        "colab": {}
      },
      "cell_type": "code",
      "source": [
        "tensorboard = TensorBoard(log_dir='./logs', write_graph=True, write_images=True)"
      ],
      "execution_count": 0,
      "outputs": []
    },
    {
      "metadata": {
        "id": "169zu9Y8rMvy",
        "colab_type": "code",
        "outputId": "5dad11ca-c809-48d0-fa2a-a59cf620ca29",
        "colab": {
          "base_uri": "https://localhost:8080/",
          "height": 2916
        }
      },
      "cell_type": "code",
      "source": [
        "import os\n",
        "early_stopper = EarlyStopping(monitor='val_loss', min_delta=0, patience=8, verbose=1, mode='auto')\n",
        "checkpoint_path = \"./weights.h5\"\n",
        "checkpoint_dir = os.path.dirname(checkpoint_path)\n",
        "\n",
        "# Create checkpoint callback\n",
        "cp_callback = ModelCheckpoint(checkpoint_path, monitor='val_loss', verbose=1, save_best_only=True)\n",
        "\n",
        "#model = create_model()\n",
        "\n",
        "model.fit(np.array(X_train), np.array(y_train),\n",
        "          batch_size=batch_size,\n",
        "          epochs=epochs,\n",
        "          verbose=1,\n",
        "          validation_data=(np.array(X_test), np.array(y_test)),\n",
        "          shuffle=True,\n",
        "          callbacks=[lr_reducer, tensorboard, early_stopper, cp_callback])\n",
        "\n"
      ],
      "execution_count": 0,
      "outputs": [
        {
          "output_type": "stream",
          "text": [
            "WARNING:tensorflow:From /usr/local/lib/python3.6/dist-packages/tensorflow/python/ops/math_ops.py:3066: to_int32 (from tensorflow.python.ops.math_ops) is deprecated and will be removed in a future version.\n",
            "Instructions for updating:\n",
            "Use tf.cast instead.\n",
            "Train on 32298 samples, validate on 3589 samples\n",
            "Epoch 1/100\n",
            "32298/32298 [==============================] - 32s 1ms/step - loss: 2.0227 - acc: 0.2142 - val_loss: 1.8215 - val_acc: 0.2455\n",
            "\n",
            "Epoch 00001: val_loss improved from inf to 1.82153, saving model to ./weights.h5\n",
            "Epoch 2/100\n",
            "32298/32298 [==============================] - 28s 859us/step - loss: 1.8371 - acc: 0.2471 - val_loss: 1.8131 - val_acc: 0.2460\n",
            "\n",
            "Epoch 00002: val_loss improved from 1.82153 to 1.81312, saving model to ./weights.h5\n",
            "Epoch 3/100\n",
            "32298/32298 [==============================] - 28s 867us/step - loss: 1.8088 - acc: 0.2552 - val_loss: 1.9039 - val_acc: 0.2455\n",
            "\n",
            "Epoch 00003: val_loss did not improve from 1.81312\n",
            "Epoch 4/100\n",
            "32298/32298 [==============================] - 28s 855us/step - loss: 1.7481 - acc: 0.2880 - val_loss: 1.7930 - val_acc: 0.2530\n",
            "\n",
            "Epoch 00004: val_loss improved from 1.81312 to 1.79297, saving model to ./weights.h5\n",
            "Epoch 5/100\n",
            "32298/32298 [==============================] - 28s 859us/step - loss: 1.6533 - acc: 0.3400 - val_loss: 1.7182 - val_acc: 0.3263\n",
            "\n",
            "Epoch 00005: val_loss improved from 1.79297 to 1.71824, saving model to ./weights.h5\n",
            "Epoch 6/100\n",
            "32298/32298 [==============================] - 28s 860us/step - loss: 1.5467 - acc: 0.3901 - val_loss: 1.4680 - val_acc: 0.4316\n",
            "\n",
            "Epoch 00006: val_loss improved from 1.71824 to 1.46803, saving model to ./weights.h5\n",
            "Epoch 7/100\n",
            "32298/32298 [==============================] - 28s 857us/step - loss: 1.4801 - acc: 0.4157 - val_loss: 1.5803 - val_acc: 0.3979\n",
            "\n",
            "Epoch 00007: val_loss did not improve from 1.46803\n",
            "Epoch 8/100\n",
            "32298/32298 [==============================] - 28s 860us/step - loss: 1.4350 - acc: 0.4410 - val_loss: 1.3793 - val_acc: 0.4581\n",
            "\n",
            "Epoch 00008: val_loss improved from 1.46803 to 1.37933, saving model to ./weights.h5\n",
            "Epoch 9/100\n",
            "32298/32298 [==============================] - 28s 856us/step - loss: 1.3884 - acc: 0.4615 - val_loss: 1.3209 - val_acc: 0.4968\n",
            "\n",
            "Epoch 00009: val_loss improved from 1.37933 to 1.32090, saving model to ./weights.h5\n",
            "Epoch 10/100\n",
            "32298/32298 [==============================] - 28s 863us/step - loss: 1.3491 - acc: 0.4869 - val_loss: 1.3311 - val_acc: 0.4801\n",
            "\n",
            "Epoch 00010: val_loss did not improve from 1.32090\n",
            "Epoch 11/100\n",
            "32298/32298 [==============================] - 28s 861us/step - loss: 1.3155 - acc: 0.5007 - val_loss: 1.2800 - val_acc: 0.5121\n",
            "\n",
            "Epoch 00011: val_loss improved from 1.32090 to 1.27999, saving model to ./weights.h5\n",
            "Epoch 12/100\n",
            "32298/32298 [==============================] - 28s 857us/step - loss: 1.2820 - acc: 0.5182 - val_loss: 1.2955 - val_acc: 0.5294\n",
            "\n",
            "Epoch 00012: val_loss did not improve from 1.27999\n",
            "Epoch 13/100\n",
            "32298/32298 [==============================] - 28s 858us/step - loss: 1.2529 - acc: 0.5342 - val_loss: 1.1650 - val_acc: 0.5592\n",
            "\n",
            "Epoch 00013: val_loss improved from 1.27999 to 1.16495, saving model to ./weights.h5\n",
            "Epoch 14/100\n",
            "32298/32298 [==============================] - 28s 857us/step - loss: 1.2179 - acc: 0.5467 - val_loss: 1.1581 - val_acc: 0.5559\n",
            "\n",
            "Epoch 00014: val_loss improved from 1.16495 to 1.15813, saving model to ./weights.h5\n",
            "Epoch 15/100\n",
            "32298/32298 [==============================] - 28s 855us/step - loss: 1.1959 - acc: 0.5568 - val_loss: 1.1367 - val_acc: 0.5745\n",
            "\n",
            "Epoch 00015: val_loss improved from 1.15813 to 1.13667, saving model to ./weights.h5\n",
            "Epoch 16/100\n",
            "32298/32298 [==============================] - 28s 859us/step - loss: 1.1727 - acc: 0.5712 - val_loss: 1.1347 - val_acc: 0.5834\n",
            "\n",
            "Epoch 00016: val_loss improved from 1.13667 to 1.13472, saving model to ./weights.h5\n",
            "Epoch 17/100\n",
            "32298/32298 [==============================] - 28s 857us/step - loss: 1.1427 - acc: 0.5836 - val_loss: 1.1105 - val_acc: 0.5860\n",
            "\n",
            "Epoch 00017: val_loss improved from 1.13472 to 1.11046, saving model to ./weights.h5\n",
            "Epoch 18/100\n",
            "32298/32298 [==============================] - 28s 856us/step - loss: 1.1167 - acc: 0.5934 - val_loss: 1.1401 - val_acc: 0.5798\n",
            "\n",
            "Epoch 00018: val_loss did not improve from 1.11046\n",
            "Epoch 19/100\n",
            "32298/32298 [==============================] - 28s 860us/step - loss: 1.0888 - acc: 0.6046 - val_loss: 1.1070 - val_acc: 0.5862\n",
            "\n",
            "Epoch 00019: val_loss improved from 1.11046 to 1.10699, saving model to ./weights.h5\n",
            "Epoch 20/100\n",
            "32298/32298 [==============================] - 28s 855us/step - loss: 1.0699 - acc: 0.6094 - val_loss: 1.0727 - val_acc: 0.6049\n",
            "\n",
            "Epoch 00020: val_loss improved from 1.10699 to 1.07266, saving model to ./weights.h5\n",
            "Epoch 21/100\n",
            "32298/32298 [==============================] - 28s 859us/step - loss: 1.0433 - acc: 0.6213 - val_loss: 1.1001 - val_acc: 0.5946\n",
            "\n",
            "Epoch 00021: val_loss did not improve from 1.07266\n",
            "Epoch 22/100\n",
            "32298/32298 [==============================] - 28s 859us/step - loss: 1.0202 - acc: 0.6255 - val_loss: 1.0778 - val_acc: 0.6091\n",
            "\n",
            "Epoch 00022: val_loss did not improve from 1.07266\n",
            "Epoch 23/100\n",
            "32298/32298 [==============================] - 28s 854us/step - loss: 1.0066 - acc: 0.6345 - val_loss: 1.1315 - val_acc: 0.5865\n",
            "\n",
            "Epoch 00023: ReduceLROnPlateau reducing learning rate to 0.0009000000427477062.\n",
            "\n",
            "Epoch 00023: val_loss did not improve from 1.07266\n",
            "Epoch 24/100\n",
            "32298/32298 [==============================] - 28s 857us/step - loss: 0.9708 - acc: 0.6487 - val_loss: 1.0258 - val_acc: 0.6236\n",
            "\n",
            "Epoch 00024: val_loss improved from 1.07266 to 1.02581, saving model to ./weights.h5\n",
            "Epoch 25/100\n",
            "32298/32298 [==============================] - 28s 859us/step - loss: 0.9450 - acc: 0.6563 - val_loss: 1.0578 - val_acc: 0.6197\n",
            "\n",
            "Epoch 00025: val_loss did not improve from 1.02581\n",
            "Epoch 26/100\n",
            "32298/32298 [==============================] - 28s 855us/step - loss: 0.9301 - acc: 0.6640 - val_loss: 1.0465 - val_acc: 0.6322\n",
            "\n",
            "Epoch 00026: val_loss did not improve from 1.02581\n",
            "Epoch 27/100\n",
            "32298/32298 [==============================] - 28s 854us/step - loss: 0.9077 - acc: 0.6738 - val_loss: 1.0508 - val_acc: 0.6186\n",
            "\n",
            "Epoch 00027: ReduceLROnPlateau reducing learning rate to 0.0008100000384729356.\n",
            "\n",
            "Epoch 00027: val_loss did not improve from 1.02581\n",
            "Epoch 28/100\n",
            "32298/32298 [==============================] - 28s 860us/step - loss: 0.8829 - acc: 0.6800 - val_loss: 1.0589 - val_acc: 0.6236\n",
            "\n",
            "Epoch 00028: val_loss did not improve from 1.02581\n",
            "Epoch 29/100\n",
            "32298/32298 [==============================] - 28s 855us/step - loss: 0.8491 - acc: 0.6934 - val_loss: 1.0222 - val_acc: 0.6411\n",
            "\n",
            "Epoch 00029: val_loss improved from 1.02581 to 1.02223, saving model to ./weights.h5\n",
            "Epoch 30/100\n",
            "32298/32298 [==============================] - 28s 855us/step - loss: 0.8325 - acc: 0.6985 - val_loss: 1.0282 - val_acc: 0.6278\n",
            "\n",
            "Epoch 00030: val_loss did not improve from 1.02223\n",
            "Epoch 31/100\n",
            "32298/32298 [==============================] - 28s 861us/step - loss: 0.8138 - acc: 0.7039 - val_loss: 1.0235 - val_acc: 0.6445\n",
            "\n",
            "Epoch 00031: val_loss did not improve from 1.02223\n",
            "Epoch 32/100\n",
            "32298/32298 [==============================] - 28s 861us/step - loss: 0.7970 - acc: 0.7139 - val_loss: 1.0609 - val_acc: 0.6283\n",
            "\n",
            "Epoch 00032: ReduceLROnPlateau reducing learning rate to 0.0007290000503417104.\n",
            "\n",
            "Epoch 00032: val_loss did not improve from 1.02223\n",
            "Epoch 33/100\n",
            "32298/32298 [==============================] - 28s 854us/step - loss: 0.7752 - acc: 0.7204 - val_loss: 1.0686 - val_acc: 0.6397\n",
            "\n",
            "Epoch 00033: val_loss did not improve from 1.02223\n",
            "Epoch 34/100\n",
            "32298/32298 [==============================] - 28s 857us/step - loss: 0.7488 - acc: 0.7296 - val_loss: 1.0459 - val_acc: 0.6478\n",
            "\n",
            "Epoch 00034: val_loss did not improve from 1.02223\n",
            "Epoch 35/100\n",
            "32298/32298 [==============================] - 28s 856us/step - loss: 0.7329 - acc: 0.7406 - val_loss: 1.0394 - val_acc: 0.6420\n",
            "\n",
            "Epoch 00035: ReduceLROnPlateau reducing learning rate to 0.0006561000715009868.\n",
            "\n",
            "Epoch 00035: val_loss did not improve from 1.02223\n",
            "Epoch 36/100\n",
            "32298/32298 [==============================] - 28s 853us/step - loss: 0.7022 - acc: 0.7476 - val_loss: 1.1017 - val_acc: 0.6422\n",
            "\n",
            "Epoch 00036: val_loss did not improve from 1.02223\n",
            "Epoch 37/100\n",
            "32298/32298 [==============================] - 28s 857us/step - loss: 0.6904 - acc: 0.7548 - val_loss: 1.0344 - val_acc: 0.6604\n",
            "\n",
            "Epoch 00037: val_loss did not improve from 1.02223\n",
            "Epoch 00037: early stopping\n"
          ],
          "name": "stdout"
        },
        {
          "output_type": "execute_result",
          "data": {
            "text/plain": [
              "<keras.callbacks.History at 0x7fefde8586d8>"
            ]
          },
          "metadata": {
            "tags": []
          },
          "execution_count": 19
        }
      ]
    },
    {
      "metadata": {
        "id": "tKjtgE6OT3-d",
        "colab_type": "code",
        "outputId": "a71c64a4-7b39-4e44-fd30-bd3d33f775f5",
        "colab": {
          "base_uri": "https://localhost:8080/",
          "height": 1261
        }
      },
      "cell_type": "code",
      "source": [
        "import keras\n",
        "model.save(\"annaya.h5\")\n",
        "new_model = keras.models.load_model('annaya.h5')\n",
        "new_model.summary()\n",
        "#files.download('annaya.h5')\n",
        "uploaded = drive.CreateFile({'title': 'annaya.h5'})\n",
        "uploaded.SetContentFile('annaya.h5')\n",
        "uploaded.Upload()\n",
        "print('Uploaded file with ID {}'.format(uploaded.get('id')))"
      ],
      "execution_count": 0,
      "outputs": [
        {
          "output_type": "stream",
          "text": [
            "_________________________________________________________________\n",
            "Layer (type)                 Output Shape              Param #   \n",
            "=================================================================\n",
            "conv2d_1 (Conv2D)            (None, 46, 46, 64)        640       \n",
            "_________________________________________________________________\n",
            "conv2d_2 (Conv2D)            (None, 46, 46, 64)        36928     \n",
            "_________________________________________________________________\n",
            "batch_normalization_1 (Batch (None, 46, 46, 64)        256       \n",
            "_________________________________________________________________\n",
            "max_pooling2d_1 (MaxPooling2 (None, 23, 23, 64)        0         \n",
            "_________________________________________________________________\n",
            "dropout_1 (Dropout)          (None, 23, 23, 64)        0         \n",
            "_________________________________________________________________\n",
            "conv2d_3 (Conv2D)            (None, 23, 23, 128)       73856     \n",
            "_________________________________________________________________\n",
            "batch_normalization_2 (Batch (None, 23, 23, 128)       512       \n",
            "_________________________________________________________________\n",
            "conv2d_4 (Conv2D)            (None, 23, 23, 128)       147584    \n",
            "_________________________________________________________________\n",
            "batch_normalization_3 (Batch (None, 23, 23, 128)       512       \n",
            "_________________________________________________________________\n",
            "max_pooling2d_2 (MaxPooling2 (None, 11, 11, 128)       0         \n",
            "_________________________________________________________________\n",
            "dropout_2 (Dropout)          (None, 11, 11, 128)       0         \n",
            "_________________________________________________________________\n",
            "conv2d_5 (Conv2D)            (None, 11, 11, 256)       295168    \n",
            "_________________________________________________________________\n",
            "batch_normalization_4 (Batch (None, 11, 11, 256)       1024      \n",
            "_________________________________________________________________\n",
            "conv2d_6 (Conv2D)            (None, 11, 11, 256)       590080    \n",
            "_________________________________________________________________\n",
            "batch_normalization_5 (Batch (None, 11, 11, 256)       1024      \n",
            "_________________________________________________________________\n",
            "max_pooling2d_3 (MaxPooling2 (None, 5, 5, 256)         0         \n",
            "_________________________________________________________________\n",
            "dropout_3 (Dropout)          (None, 5, 5, 256)         0         \n",
            "_________________________________________________________________\n",
            "conv2d_7 (Conv2D)            (None, 5, 5, 512)         1180160   \n",
            "_________________________________________________________________\n",
            "batch_normalization_6 (Batch (None, 5, 5, 512)         2048      \n",
            "_________________________________________________________________\n",
            "conv2d_8 (Conv2D)            (None, 5, 5, 512)         2359808   \n",
            "_________________________________________________________________\n",
            "batch_normalization_7 (Batch (None, 5, 5, 512)         2048      \n",
            "_________________________________________________________________\n",
            "max_pooling2d_4 (MaxPooling2 (None, 2, 2, 512)         0         \n",
            "_________________________________________________________________\n",
            "dropout_4 (Dropout)          (None, 2, 2, 512)         0         \n",
            "_________________________________________________________________\n",
            "flatten_1 (Flatten)          (None, 2048)              0         \n",
            "_________________________________________________________________\n",
            "dense_1 (Dense)              (None, 512)               1049088   \n",
            "_________________________________________________________________\n",
            "dropout_5 (Dropout)          (None, 512)               0         \n",
            "_________________________________________________________________\n",
            "dense_2 (Dense)              (None, 256)               131328    \n",
            "_________________________________________________________________\n",
            "dropout_6 (Dropout)          (None, 256)               0         \n",
            "_________________________________________________________________\n",
            "dense_3 (Dense)              (None, 128)               32896     \n",
            "_________________________________________________________________\n",
            "dropout_7 (Dropout)          (None, 128)               0         \n",
            "_________________________________________________________________\n",
            "dense_4 (Dense)              (None, 7)                 903       \n",
            "=================================================================\n",
            "Total params: 5,905,863\n",
            "Trainable params: 5,902,151\n",
            "Non-trainable params: 3,712\n",
            "_________________________________________________________________\n",
            "Uploaded file with ID 1zVwWY_QGkNfQRSUdNnVqw1KZ7bi6QxQ8\n"
          ],
          "name": "stdout"
        }
      ]
    },
    {
      "metadata": {
        "id": "8pq7ZQFV3QKl",
        "colab_type": "code",
        "outputId": "26867f1f-9108-40f1-f230-83a50b85e7d9",
        "colab": {
          "base_uri": "https://localhost:8080/",
          "height": 70
        }
      },
      "cell_type": "code",
      "source": [
        "model.save_weights(\"training_weights.h5\")\n",
        "scores = model.evaluate(np.array(X_test), np.array(y_test), batch_size=batch_size)\n",
        "print(\"Loss: \" + str(scores[0]))\n",
        "print(\"Accuracy: \" + str(scores[1]))\n",
        "#files.download('weights.hdf5')\n",
        "#files.download(\"training_weights.h5\")\n",
        "uploaded = drive.CreateFile({'title': 'weights.h5'})\n",
        "uploaded.SetContentFile('weights.h5')\n",
        "uploaded.Upload()\n",
        "print('Uploaded file with ID {}'.format(uploaded.get('id')))"
      ],
      "execution_count": 0,
      "outputs": [
        {
          "output_type": "stream",
          "text": [
            "3589/3589 [==============================] - 1s 261us/step\n",
            "Loss: 1.0343570368357706\n",
            "Accuracy: 0.6603510727388143\n"
          ],
          "name": "stdout"
        }
      ]
    },
    {
      "metadata": {
        "id": "ZFh6vKDhOOPX",
        "colab_type": "code",
        "colab": {}
      },
      "cell_type": "code",
      "source": [
        "from IPython.display import display, Javascript\n",
        "from google.colab.output import eval_js\n",
        "from base64 import b64decode\n",
        "\n",
        "def take_photo(filename='photo.jpg', quality=0.8):\n",
        "  js = Javascript('''\n",
        "    async function takePhoto(quality) {\n",
        "      const div = document.createElement('div');\n",
        "      const capture = document.createElement('button');\n",
        "      capture.textContent = 'Capture';\n",
        "      div.appendChild(capture);\n",
        "\n",
        "      const video = document.createElement('video');\n",
        "      video.style.display = 'block';\n",
        "      const stream = await navigator.mediaDevices.getUserMedia({video: true});\n",
        "\n",
        "      document.body.appendChild(div);\n",
        "      div.appendChild(video);\n",
        "      video.srcObject = stream;\n",
        "      await video.play();\n",
        "\n",
        "      // Resize the output to fit the video element.\n",
        "      google.colab.output.setIframeHeight(document.documentElement.scrollHeight, true);\n",
        "\n",
        "      // Wait for Capture to be clicked.\n",
        "      await new Promise((resolve) => capture.onclick = resolve);\n",
        "\n",
        "      const canvas = document.createElement('canvas');\n",
        "      canvas.width = video.videoWidth;\n",
        "      canvas.height = video.videoHeight;\n",
        "      canvas.getContext('2d').drawImage(video, 0, 0);\n",
        "      stream.getVideoTracks()[0].stop();\n",
        "      div.remove();\n",
        "      return canvas.toDataURL('image/jpeg', quality);\n",
        "    }\n",
        "    ''')\n",
        "  display(js)\n",
        "  data = eval_js('takePhoto({})'.format(quality))\n",
        "  binary = b64decode(data.split(',')[1])\n",
        "  with open(filename, 'wb') as f:\n",
        "    f.write(binary)\n",
        "  return filename"
      ],
      "execution_count": 0,
      "outputs": []
    },
    {
      "metadata": {
        "id": "ZwWPO5mcOOI2",
        "colab_type": "code",
        "outputId": "efc63950-34fd-4444-c468-11a5837e6679",
        "colab": {
          "base_uri": "https://localhost:8080/",
          "height": 16
        }
      },
      "cell_type": "code",
      "source": [
        "from IPython.display import Image\n",
        "try:\n",
        "  filename = take_photo()\n",
        "  print('Saved to {}'.format(filename))\n",
        "  \n",
        "  # Show the image which was just taken.\n",
        "  display(Image(filename))\n",
        "except Exception as err:\n",
        "  # Errors will be thrown if the user does not have a webcam or if they do not\n",
        "  # grant the page permission to access it.\n",
        "  print(str(err))"
      ],
      "execution_count": 0,
      "outputs": [
        {
          "output_type": "display_data",
          "data": {
            "application/javascript": [
              "\n",
              "    async function takePhoto(quality) {\n",
              "      const div = document.createElement('div');\n",
              "      const capture = document.createElement('button');\n",
              "      capture.textContent = 'Capture';\n",
              "      div.appendChild(capture);\n",
              "\n",
              "      const video = document.createElement('video');\n",
              "      video.style.display = 'block';\n",
              "      const stream = await navigator.mediaDevices.getUserMedia({video: true});\n",
              "\n",
              "      document.body.appendChild(div);\n",
              "      div.appendChild(video);\n",
              "      video.srcObject = stream;\n",
              "      await video.play();\n",
              "\n",
              "      // Resize the output to fit the video element.\n",
              "      google.colab.output.setIframeHeight(document.documentElement.scrollHeight, true);\n",
              "\n",
              "      // Wait for Capture to be clicked.\n",
              "      await new Promise((resolve) => capture.onclick = resolve);\n",
              "\n",
              "      const canvas = document.createElement('canvas');\n",
              "      canvas.width = video.videoWidth;\n",
              "      canvas.height = video.videoHeight;\n",
              "      canvas.getContext('2d').drawImage(video, 0, 0);\n",
              "      stream.getVideoTracks()[0].stop();\n",
              "      div.remove();\n",
              "      return canvas.toDataURL('image/jpeg', quality);\n",
              "    }\n",
              "    "
            ],
            "text/plain": [
              "<IPython.core.display.Javascript object>"
            ]
          },
          "metadata": {
            "tags": []
          }
        }
      ]
    },
    {
      "metadata": {
        "id": "q54tsd1fVu2p",
        "colab_type": "code",
        "colab": {}
      },
      "cell_type": "code",
      "source": [
        "from google.colab import files\n",
        "files.download('photo.jpg')"
      ],
      "execution_count": 0,
      "outputs": []
    },
    {
      "metadata": {
        "id": "--bKn3Wh6GDL",
        "colab_type": "text"
      },
      "cell_type": "markdown",
      "source": [
        "# KNeighborsClassification"
      ]
    },
    {
      "metadata": {
        "id": "F_tZSpom7_H2",
        "colab_type": "code",
        "outputId": "b615bf56-2436-469b-c3a7-b9bfbcaf6dec",
        "colab": {
          "base_uri": "https://localhost:8080/",
          "height": 54
        }
      },
      "cell_type": "code",
      "source": [
        "import numpy as np\n",
        "pixel = df3['pixels']\n",
        "print(pixel[0])\n",
        "faces = []  \n",
        "for i in range(len(pixel)):\n",
        "  face = [int(j) for j in pixel[i].split(' ')]\n",
        "  #face = np.asarray(face).reshape(48, 48)\n",
        "  #print(face)\n",
        "  faces.append(face)"
      ],
      "execution_count": 0,
      "outputs": [
        {
          "output_type": "stream",
          "text": [
            "70 80 82 72 58 58 60 63 54 58 60 48 89 115 121 119 115 110 98 91 84 84 90 99 110 126 143 153 158 171 169 172 169 165 129 110 113 107 95 79 66 62 56 57 61 52 43 41 65 61 58 57 56 69 75 70 65 56 54 105 146 154 151 151 155 155 150 147 147 148 152 158 164 172 177 182 186 189 188 190 188 180 167 116 95 103 97 77 72 62 55 58 54 56 52 44 50 43 54 64 63 71 68 64 52 66 119 156 161 164 163 164 167 168 170 174 175 176 178 179 183 187 190 195 197 198 197 198 195 191 190 145 86 100 90 65 57 60 54 51 41 49 56 47 38 44 63 55 46 52 54 55 83 138 157 158 165 168 172 171 173 176 179 179 180 182 185 187 189 189 192 197 200 199 196 198 200 198 197 177 91 87 96 58 58 59 51 42 37 41 47 45 37 35 36 30 41 47 59 94 141 159 161 161 164 170 171 172 176 178 179 182 183 183 187 189 192 192 194 195 200 200 199 199 200 201 197 193 111 71 108 69 55 61 51 42 43 56 54 44 24 29 31 45 61 72 100 136 150 159 163 162 163 170 172 171 174 177 177 180 187 186 187 189 192 192 194 195 196 197 199 200 201 200 197 201 137 58 98 92 57 62 53 47 41 40 51 43 24 35 52 63 75 104 129 143 149 158 162 164 166 171 173 172 174 178 178 179 187 188 188 191 193 194 195 198 199 199 197 198 197 197 197 201 164 52 78 87 69 58 56 50 54 39 44 42 26 31 49 65 91 119 134 145 147 152 159 163 167 171 170 169 174 178 178 179 187 187 185 187 190 188 187 191 197 201 199 199 200 197 196 197 182 58 62 77 61 60 55 49 59 52 54 44 22 30 47 68 102 123 136 144 148 150 153 157 167 172 173 170 171 177 179 178 186 190 186 189 196 193 191 194 190 190 192 197 201 203 199 194 189 69 48 74 56 60 57 50 59 59 51 41 20 34 47 79 111 132 139 143 145 147 150 151 160 169 172 171 167 171 177 177 174 180 182 181 192 196 189 192 198 195 194 196 198 201 202 195 189 70 39 69 61 61 61 53 59 59 45 40 26 40 61 93 124 135 138 142 144 146 151 152 158 165 168 168 165 161 164 173 172 167 172 167 180 198 198 193 199 195 194 198 200 198 197 195 190 65 35 68 59 59 62 57 60 59 50 44 32 54 90 115 132 137 138 140 144 146 146 156 165 168 174 176 176 175 168 168 169 171 175 171 172 192 194 184 198 205 201 194 195 193 195 192 186 57 38 72 65 57 62 58 57 60 54 49 47 79 116 130 138 141 141 139 141 143 145 157 164 164 166 173 174 176 179 179 176 181 189 188 173 180 175 160 182 189 198 192 189 190 190 188 172 46 44 64 66 59 62 57 56 62 53 50 66 103 133 137 141 143 141 136 132 131 136 127 118 111 107 108 123 131 143 154 158 166 177 181 175 170 159 148 171 161 176 185 192 194 188 190 162 53 49 58 63 61 61 55 56 61 51 50 81 116 139 142 142 146 144 136 128 119 112 97 85 90 91 88 92 90 80 81 84 106 122 132 144 145 144 147 163 147 163 173 181 190 187 191 167 61 48 53 61 61 58 54 56 61 51 53 89 123 140 144 145 146 147 136 122 107 99 95 92 90 87 83 76 67 52 46 52 63 69 83 96 119 132 148 159 136 137 143 138 143 152 156 156 70 48 50 59 61 57 54 54 61 52 56 93 124 135 140 144 148 150 140 125 114 101 80 54 56 54 41 41 33 40 39 35 49 60 63 74 107 129 147 147 116 111 100 77 76 86 108 111 73 49 50 60 62 60 57 55 63 59 56 89 121 134 139 146 151 152 150 141 127 111 96 77 85 70 32 31 37 91 65 50 48 59 73 83 112 136 155 130 60 46 38 40 43 81 116 91 72 52 48 58 62 62 59 53 61 59 52 85 114 134 140 147 154 159 158 153 145 143 150 126 121 125 68 45 89 137 95 70 78 75 95 109 131 153 171 94 23 16 32 82 82 65 113 77 71 54 48 56 62 62 60 53 60 56 52 75 108 133 141 149 158 166 169 167 163 156 155 146 112 119 134 127 142 140 121 117 129 114 120 129 146 174 191 98 46 33 33 109 147 98 109 67 73 55 50 56 64 64 61 58 61 53 54 64 106 129 140 148 159 169 175 176 174 165 159 156 145 120 115 124 127 131 133 141 147 142 141 147 161 182 202 154 114 96 100 158 158 153 123 61 76 57 48 56 64 64 63 62 61 54 55 44 97 131 137 147 158 168 177 181 183 179 170 168 169 165 155 152 151 152 154 162 165 158 153 158 168 187 206 186 147 135 144 145 152 178 115 57 74 58 48 58 64 63 63 59 63 55 53 66 104 130 132 144 153 162 170 180 185 187 181 178 182 180 177 173 171 171 177 176 172 164 161 167 164 185 207 197 173 152 141 141 161 191 104 54 69 60 48 57 65 62 60 57 64 55 50 94 111 124 130 135 150 159 163 172 179 184 184 178 178 177 173 171 174 177 178 176 169 165 161 163 161 180 205 201 183 171 177 178 180 194 101 55 65 60 47 55 65 63 59 58 63 57 52 90 105 117 122 130 143 153 157 163 171 174 182 183 182 178 174 175 175 177 175 172 163 161 159 157 162 178 200 201 188 181 172 177 187 198 98 57 63 61 48 52 61 64 63 60 65 57 51 95 104 113 117 127 136 145 152 156 162 162 165 173 177 182 183 183 180 181 177 165 153 154 152 153 160 174 193 200 188 185 180 182 192 196 101 60 60 56 49 50 60 66 64 62 64 59 53 99 104 111 112 118 132 142 147 155 158 160 159 162 171 176 184 186 183 180 169 154 141 135 145 155 164 180 196 205 188 189 188 189 193 192 98 61 64 55 49 49 60 66 63 64 63 60 57 99 105 108 112 113 125 139 143 150 155 158 164 169 174 176 182 183 182 177 163 141 133 147 151 164 170 185 200 210 194 188 192 186 185 180 88 64 67 60 46 50 59 65 64 64 64 59 56 101 103 108 109 109 118 134 143 143 147 155 159 166 171 174 177 179 178 172 153 129 143 161 159 166 171 186 197 207 203 185 191 183 179 164 73 67 67 66 48 50 57 65 65 63 64 61 57 103 108 114 112 110 115 128 138 144 145 152 156 159 164 168 172 172 169 161 139 125 147 156 161 162 164 180 188 188 197 185 187 181 180 137 65 70 68 70 52 47 53 62 65 63 65 61 58 105 109 112 120 113 112 122 134 141 149 150 153 155 159 164 167 167 162 152 134 115 126 119 106 99 109 141 158 150 155 175 184 176 175 106 63 70 68 68 50 46 50 57 63 63 64 61 59 107 110 110 117 117 114 117 128 137 147 148 150 153 156 161 162 163 156 150 148 105 70 45 26 25 47 73 74 79 128 177 180 173 157 77 66 68 67 68 52 49 51 56 62 62 62 62 60 101 107 108 114 115 114 117 125 134 143 148 149 152 154 158 160 158 155 160 158 132 88 73 73 64 52 66 91 138 160 174 173 171 125 64 67 63 64 68 54 50 49 54 60 60 60 62 60 98 105 105 109 111 114 117 125 131 139 145 148 153 153 156 157 156 161 168 165 153 139 122 115 105 89 103 150 182 161 171 173 162 89 64 64 62 64 69 56 48 49 56 58 60 59 62 60 89 99 108 106 109 111 119 120 125 134 140 146 152 153 153 153 156 159 162 160 150 136 129 133 133 122 133 148 178 168 168 175 132 61 67 66 65 63 69 57 47 50 55 58 59 61 62 60 89 96 105 107 105 107 117 120 123 124 133 141 149 153 151 145 151 145 139 140 138 128 126 124 129 125 136 142 164 172 168 168 87 58 67 63 62 61 69 57 39 44 55 56 59 63 62 62 84 91 92 98 102 103 113 119 121 118 128 138 146 151 147 142 140 128 127 128 129 126 135 140 135 130 143 146 149 166 174 131 62 65 62 59 67 63 68 83 89 65 42 52 60 60 62 63 77 84 84 91 99 101 107 112 117 118 122 134 145 149 144 134 127 127 129 130 134 125 126 132 152 153 151 150 151 165 171 87 59 65 64 61 58 86 122 138 208 207 154 71 52 56 55 56 69 77 83 85 93 91 102 112 116 118 119 127 140 144 142 131 112 95 85 75 62 58 56 59 87 88 83 127 142 165 149 62 65 62 59 77 113 192 156 84 185 196 197 168 81 70 75 69 58 65 73 82 81 79 95 107 114 116 116 123 136 142 136 132 131 102 71 58 49 41 33 41 36 49 60 99 136 168 111 53 63 71 138 186 203 195 146 87 91 72 79 95 103 82 61 74 55 57 68 75 76 77 84 96 106 110 111 121 130 138 136 142 153 159 152 152 154 145 133 136 147 158 156 155 147 158 74 57 60 123 181 174 126 89 72 67 57 43 55 67 76 86 60 45 51 45 52 68 75 73 77 88 96 100 104 113 115 121 134 146 149 146 149 148 155 168 174 179 178 169 169 174 161 131 44 47 82 150 168 136 104 75 66 80 67 58 48 54 68 88 121 102 51 45 38 53 66 65 70 86 92 96 102 103 109 116 130 136 136 133 136 138 137 135 128 130 143 158 165 164 147 87 62 74 123 160 170 100 99 107 79 71 86 75 57 45 49 65 122 130 43 48 40 39 55 61 59 71 82 87 88 93 105 118 123 128 130 124 111 98 94 88 67 55 84 129 147 148 105 48 82 142 161 164 164 76 72 85 100 88 72 90 84 54 48 54 73 100 73 36 44 31 37 53 51 55 67 74 77 87 97 108 118 125 132 122 106 86 80 82 75 73 83 110 129 126 46 22 130 177 196 193 166 72 52 54 73 100 92 75 99 95 65 68 61 63 91 65 42 37 22 28 39 44 57 68 74 83 92 101 119 131 143 141 134 136 140 139 134 136 139 138 136 85 23 114 202 198 199 180 173 98 36 86 130 150 137 99 77 101 99 72 56 43 77 82 79 70 56 28 20 25 36 50 63 73 83 98 111 124 139 156 160 159 169 168 165 163 159 149 114 43 26 133 183 192 177 152 137 130 125 139 173 195 186 137 101 88 101 105 70 46 77 72 84 87 87 81 64 37 20 31 40 46 65 88 108 110 125 149 157 153 162 164 158 159 154 140 78 21 11 61 144 168 173 157 138 150 148 132 159 182 183 136 106 116 95 106 109 82\n"
          ],
          "name": "stdout"
        }
      ]
    },
    {
      "metadata": {
        "id": "Wu2ol71Y8Fcq",
        "colab_type": "code",
        "outputId": "193b7b0f-1a7b-4104-9432-e057c064800e",
        "colab": {
          "base_uri": "https://localhost:8080/",
          "height": 70
        }
      },
      "cell_type": "code",
      "source": [
        "#print(face.shape)\n",
        "faces = np.asarray(faces)\n",
        "#faces = np.expand_dims(faces, -1)\n",
        "emotions = df3['emotion']\n",
        "print(emotions[0])\n",
        "print(emotions.shape)\n",
        "print(faces.shape)"
      ],
      "execution_count": 0,
      "outputs": [
        {
          "output_type": "stream",
          "text": [
            "0\n",
            "(35887,)\n",
            "(35887, 2304)\n"
          ],
          "name": "stdout"
        }
      ]
    },
    {
      "metadata": {
        "id": "zlSAx_i28R3F",
        "colab_type": "code",
        "colab": {}
      },
      "cell_type": "code",
      "source": [
        "from sklearn.metrics import accuracy_score\n",
        "from sklearn.model_selection import train_test_split\n",
        "X_train, X_test, y_train, y_test = train_test_split(faces, emotions, test_size=0.1, random_state=42)"
      ],
      "execution_count": 0,
      "outputs": []
    },
    {
      "metadata": {
        "id": "tVW2lReeVx3n",
        "colab_type": "code",
        "outputId": "b4ad6209-fbda-44d7-c27a-fe4b00fe3972",
        "colab": {
          "base_uri": "https://localhost:8080/",
          "height": 34
        }
      },
      "cell_type": "code",
      "source": [
        "from sklearn.neighbors import KNeighborsClassifier\n",
        "model = KNeighborsClassifier(n_neighbors=5, weights='uniform', algorithm='auto', leaf_size=30, p=2, metric='minkowski')\n",
        "model.fit(np.array(X_train), np.array(y_train))\n",
        "y_pred = model.predict(X_test)\n",
        "print(accuracy_score(y_test, y_pred, normalize=True))"
      ],
      "execution_count": 0,
      "outputs": [
        {
          "output_type": "stream",
          "text": [
            "0.3502368347729172\n"
          ],
          "name": "stdout"
        }
      ]
    }
  ]
}